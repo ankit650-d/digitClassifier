{
  "nbformat": 4,
  "nbformat_minor": 0,
  "metadata": {
    "colab": {
      "name": "Digit_Classifer.ipynb",
      "provenance": [],
      "collapsed_sections": []
    },
    "kernelspec": {
      "name": "python3",
      "display_name": "Python 3"
    },
    "language_info": {
      "name": "python"
    }
  },
  "cells": [
    {
      "cell_type": "code",
      "metadata": {
        "colab": {
          "base_uri": "https://localhost:8080/"
        },
        "id": "Ja9Vn-mQ1G4H",
        "outputId": "ddea9f35-4f18-4f5e-89ec-76c848c59ab4"
      },
      "source": [
        "import zipfile\n",
        "!unzip /content/drive/MyDrive/train.csv.zip"
      ],
      "execution_count": 1,
      "outputs": [
        {
          "output_type": "stream",
          "text": [
            "Archive:  /content/drive/MyDrive/train.csv.zip\n",
            "replace train.csv? [y]es, [n]o, [A]ll, [N]one, [r]ename: n\n"
          ],
          "name": "stdout"
        }
      ]
    },
    {
      "cell_type": "code",
      "metadata": {
        "id": "cQ-3apoj1QKq"
      },
      "source": [
        "import pandas as pd\n",
        "import numpy as np\n",
        "import matplotlib.pyplot as plt\n"
      ],
      "execution_count": 3,
      "outputs": []
    },
    {
      "cell_type": "code",
      "metadata": {
        "id": "Eihg2bwn1WaT"
      },
      "source": [
        "df = pd.read_csv(\"/content/train.csv\")"
      ],
      "execution_count": 4,
      "outputs": []
    },
    {
      "cell_type": "code",
      "metadata": {
        "id": "0utGFaqN1bp1"
      },
      "source": [
        "y = df[\"label\"]"
      ],
      "execution_count": 5,
      "outputs": []
    },
    {
      "cell_type": "code",
      "metadata": {
        "id": "cauAp78R1cVa"
      },
      "source": [
        "x = df.iloc[:,1:]"
      ],
      "execution_count": 6,
      "outputs": []
    },
    {
      "cell_type": "code",
      "metadata": {
        "id": "y1Pz7lp81ep-"
      },
      "source": [
        "from sklearn.model_selection import train_test_split\n",
        "x_train,x_test,y_train,y_test = train_test_split(x,y,test_size=0.2)"
      ],
      "execution_count": 7,
      "outputs": []
    },
    {
      "cell_type": "code",
      "metadata": {
        "colab": {
          "base_uri": "https://localhost:8080/",
          "height": 364
        },
        "id": "TLoKGIANCLKt",
        "outputId": "68976475-8168-4f97-ec67-b47f3a16b0f4"
      },
      "source": [
        "plt.figure(figsize=(14,12))\n",
        "\n",
        "\n",
        "for digit_num in range(0,30):\n",
        "  plt.subplot(7,10,digit_num+1)\n",
        "  grid_data = x_train.iloc[digit_num].values.reshape(28,28)\n",
        "  plt.imshow(grid_data, interpolation = \"none\")\n",
        "  plt.xticks([])\n",
        "  plt.yticks([])\n",
        "plt.tight_layout()"
      ],
      "execution_count": 8,
      "outputs": [
        {
          "output_type": "display_data",
          "data": {
            "image/png": "[encoded data removed]",
            "text/plain": [
              "<Figure size 1008x864 with 30 Axes>"
            ]
          },
          "metadata": {
            "tags": []
          }
        }
      ]
    },
    {
      "cell_type": "code",
      "metadata": {
        "id": "FJ0HB5XDBpcA"
      },
      "source": [
        "from sklearn.preprocessing import MinMaxScaler\n",
        "scaler = MinMaxScaler(feature_range=(-1, 1))\n",
        "scaler.fit(x_train)\n",
        "normalized_x_train = scaler.transform(x_train)\n",
        "normalized_x_test = scaler.transform(x_test)"
      ],
      "execution_count": 9,
      "outputs": []
    },
    {
      "cell_type": "code",
      "metadata": {
        "colab": {
          "base_uri": "https://localhost:8080/"
        },
        "id": "KK9ulnwb1ky2",
        "outputId": "2535f5b2-f138-409b-858d-abf5a3f57324"
      },
      "source": [
        "from sklearn.svm import SVC\n",
        "clf = SVC(random_state=0)\n",
        "clf.fit(normalized_x_train,y_train)"
      ],
      "execution_count": 10,
      "outputs": [
        {
          "output_type": "execute_result",
          "data": {
            "text/plain": [
              "SVC(C=1.0, break_ties=False, cache_size=200, class_weight=None, coef0=0.0,\n",
              "    decision_function_shape='ovr', degree=3, gamma='scale', kernel='rbf',\n",
              "    max_iter=-1, probability=False, random_state=0, shrinking=True, tol=0.001,\n",
              "    verbose=False)"
            ]
          },
          "metadata": {
            "tags": []
          },
          "execution_count": 10
        }
      ]
    },
    {
      "cell_type": "code",
      "metadata": {
        "id": "98ERAGhP52Bi"
      },
      "source": [
        "clf_2 = SVC(kernel=\"sigmoid\",random_state=0)"
      ],
      "execution_count": 11,
      "outputs": []
    },
    {
      "cell_type": "code",
      "metadata": {
        "colab": {
          "base_uri": "https://localhost:8080/"
        },
        "id": "CDXNU4x68FwS",
        "outputId": "db4978ef-18d1-4676-a3d6-03238da42f68"
      },
      "source": [
        "clf_2.fit(normalized_x_train,y_train)"
      ],
      "execution_count": 12,
      "outputs": [
        {
          "output_type": "execute_result",
          "data": {
            "text/plain": [
              "SVC(C=1.0, break_ties=False, cache_size=200, class_weight=None, coef0=0.0,\n",
              "    decision_function_shape='ovr', degree=3, gamma='scale', kernel='sigmoid',\n",
              "    max_iter=-1, probability=False, random_state=0, shrinking=True, tol=0.001,\n",
              "    verbose=False)"
            ]
          },
          "metadata": {
            "tags": []
          },
          "execution_count": 12
        }
      ]
    },
    {
      "cell_type": "code",
      "metadata": {
        "id": "px_e_eIP8eY6"
      },
      "source": [
        "clf_3 = SVC(kernel=\"poly\",random_state=0)"
      ],
      "execution_count": 13,
      "outputs": []
    },
    {
      "cell_type": "code",
      "metadata": {
        "colab": {
          "base_uri": "https://localhost:8080/"
        },
        "id": "eLqQH6py-nPO",
        "outputId": "5f1a1498-db6f-4e3d-cc7f-4d126bce5983"
      },
      "source": [
        "clf_3.fit(normalized_x_train,y_train)"
      ],
      "execution_count": 14,
      "outputs": [
        {
          "output_type": "execute_result",
          "data": {
            "text/plain": [
              "SVC(C=1.0, break_ties=False, cache_size=200, class_weight=None, coef0=0.0,\n",
              "    decision_function_shape='ovr', degree=3, gamma='scale', kernel='poly',\n",
              "    max_iter=-1, probability=False, random_state=0, shrinking=True, tol=0.001,\n",
              "    verbose=False)"
            ]
          },
          "metadata": {
            "tags": []
          },
          "execution_count": 14
        }
      ]
    },
    {
      "cell_type": "code",
      "metadata": {
        "colab": {
          "base_uri": "https://localhost:8080/"
        },
        "id": "0TvRB1vuPmgx",
        "outputId": "1a7ee5c1-ed71-4008-c027-cc963c6d931f"
      },
      "source": [
        "print(f\"Training Score using RBF Kernel: {clf.score(normalized_x_train,y_train)}\")\n",
        "print(f\"Training Score using Sigmoid Kernel : {clf_2.score(normalized_x_train,y_train)}\")\n",
        "print(f\"Training Score using Polynomial Kernel: {clf_3.score(normalized_x_train,y_train)}\")"
      ],
      "execution_count": 15,
      "outputs": [
        {
          "output_type": "stream",
          "text": [
            "Training Score using RBF Kernel: 0.9896130952380953\n",
            "Training Score using Sigmoid Kernel : 0.7816964285714286\n",
            "Training Score using Polynomial Kernel: 0.9994940476190476\n"
          ],
          "name": "stdout"
        }
      ]
    },
    {
      "cell_type": "markdown",
      "metadata": {
        "id": "3FPOiA8kO2Q5"
      },
      "source": [
        "###Three Models with different Kernels"
      ]
    },
    {
      "cell_type": "code",
      "metadata": {
        "id": "9alo_RVl1ySR"
      },
      "source": [
        "from sklearn.metrics import accuracy_score,confusion_matrix"
      ],
      "execution_count": 16,
      "outputs": []
    },
    {
      "cell_type": "code",
      "metadata": {
        "id": "27ckpWtp1upz"
      },
      "source": [
        "y_pred = clf.predict(normalized_x_test)"
      ],
      "execution_count": 17,
      "outputs": []
    },
    {
      "cell_type": "code",
      "metadata": {
        "id": "7ZGHrF1L8KCO"
      },
      "source": [
        "y_pred_2 = clf_2.predict(normalized_x_test)"
      ],
      "execution_count": 18,
      "outputs": []
    },
    {
      "cell_type": "code",
      "metadata": {
        "id": "jKwfUC8m-sGe"
      },
      "source": [
        "y_pred_3=clf_3.predict(normalized_x_test)"
      ],
      "execution_count": 19,
      "outputs": []
    },
    {
      "cell_type": "code",
      "metadata": {
        "colab": {
          "base_uri": "https://localhost:8080/"
        },
        "id": "pwwEot7014we",
        "outputId": "a9cd62e4-4a51-4c4d-96db-bb42f446a565"
      },
      "source": [
        "print(\"Test Accuracy and Confusion Matrix Using Classifier with RBF kernel\")\n",
        "accuracy_score(y_test,y_pred)"
      ],
      "execution_count": 20,
      "outputs": [
        {
          "output_type": "stream",
          "text": [
            "Test Accuracy and Confusion Matrix Using Classifier with RBF kernel\n"
          ],
          "name": "stdout"
        },
        {
          "output_type": "execute_result",
          "data": {
            "text/plain": [
              "0.9741666666666666"
            ]
          },
          "metadata": {
            "tags": []
          },
          "execution_count": 20
        }
      ]
    },
    {
      "cell_type": "code",
      "metadata": {
        "colab": {
          "base_uri": "https://localhost:8080/"
        },
        "id": "DI0_MdEE18wZ",
        "outputId": "f671a193-a963-4daa-b200-49f04f8ac37c"
      },
      "source": [
        "confusion_matrix(y_test,y_pred)"
      ],
      "execution_count": 21,
      "outputs": [
        {
          "output_type": "execute_result",
          "data": {
            "text/plain": [
              "array([[829,   0,   2,   0,   1,   3,   2,   0,   2,   1],\n",
              "       [  0, 921,   2,   1,   3,   0,   0,   1,   2,   1],\n",
              "       [  2,   0, 814,   4,   6,   0,   2,   3,   3,   1],\n",
              "       [  0,   3,   7, 858,   1,  11,   2,   4,   4,   1],\n",
              "       [  1,   0,   1,   0, 777,   1,   2,   0,   0,  11],\n",
              "       [  2,   0,   1,   9,   1, 730,   5,   0,   4,   0],\n",
              "       [  2,   1,   4,   0,   2,   4, 843,   0,   1,   0],\n",
              "       [  0,   4,   5,   0,   6,   0,   0, 840,   0,   8],\n",
              "       [  0,   2,   4,   4,   3,   6,   1,   2, 780,   6],\n",
              "       [  2,   2,   0,  10,  13,   2,   0,   8,   2, 791]])"
            ]
          },
          "metadata": {
            "tags": []
          },
          "execution_count": 21
        }
      ]
    },
    {
      "cell_type": "code",
      "metadata": {
        "colab": {
          "base_uri": "https://localhost:8080/"
        },
        "id": "-af8HFj98QoB",
        "outputId": "e1ad384f-d17c-4a88-ac79-99bac0ebc4ac"
      },
      "source": [
        "print(\"Test Accuracy and Confusion Matrix Using Classifier with sigmoid kernel\")\n",
        "accuracy_score(y_test,y_pred_2)"
      ],
      "execution_count": 22,
      "outputs": [
        {
          "output_type": "stream",
          "text": [
            "Test Accuracy and Confusion Matrix Using Classifier with sigmoid kernel\n"
          ],
          "name": "stdout"
        },
        {
          "output_type": "execute_result",
          "data": {
            "text/plain": [
              "0.7753571428571429"
            ]
          },
          "metadata": {
            "tags": []
          },
          "execution_count": 22
        }
      ]
    },
    {
      "cell_type": "code",
      "metadata": {
        "colab": {
          "base_uri": "https://localhost:8080/"
        },
        "id": "-5eshedW8Yhj",
        "outputId": "f963374a-d485-486e-e810-9407a7440fd3"
      },
      "source": [
        "confusion_matrix(y_test,y_pred_2)"
      ],
      "execution_count": 23,
      "outputs": [
        {
          "output_type": "execute_result",
          "data": {
            "text/plain": [
              "array([[742,   2,   3,   7,   3,  58,  17,   2,   3,   3],\n",
              "       [  0, 901,   3,   7,   1,   9,   3,   0,   7,   0],\n",
              "       [ 25,  68, 572,  17,  35,  20,  32,  15,  41,  10],\n",
              "       [ 12,  42,  12, 634,   5, 108,  10,  17,  32,  19],\n",
              "       [  1,   4,   9,   3, 677,  14,   6,   2,   6,  71],\n",
              "       [ 37,  74,   3, 104,  18, 442,  18,   3,  33,  20],\n",
              "       [ 17,  17,  39,   2,  12,  31, 736,   0,   3,   0],\n",
              "       [  2,  36,  16,   2,  24,  12,   0, 676,   3,  92],\n",
              "       [ 18,  93,  13,  19,   8,  84,   8,   3, 534,  28],\n",
              "       [  5,  11,  10,  18,  62,  36,   1,  77,  11, 599]])"
            ]
          },
          "metadata": {
            "tags": []
          },
          "execution_count": 23
        }
      ]
    },
    {
      "cell_type": "code",
      "metadata": {
        "colab": {
          "base_uri": "https://localhost:8080/"
        },
        "id": "uMV7iboA-3K8",
        "outputId": "365d05a5-5e02-4ae0-e1a4-6e76353a98e0"
      },
      "source": [
        "print(\"Test Accuracy and Confusion Matrix Using Classifier with Polynomial kernel\")\n",
        "accuracy_score(y_test,y_pred_3)"
      ],
      "execution_count": 24,
      "outputs": [
        {
          "output_type": "stream",
          "text": [
            "Test Accuracy and Confusion Matrix Using Classifier with Polynomial kernel\n"
          ],
          "name": "stdout"
        },
        {
          "output_type": "execute_result",
          "data": {
            "text/plain": [
              "0.9735714285714285"
            ]
          },
          "metadata": {
            "tags": []
          },
          "execution_count": 24
        }
      ]
    },
    {
      "cell_type": "code",
      "metadata": {
        "colab": {
          "base_uri": "https://localhost:8080/"
        },
        "id": "o0cWpSxz--BJ",
        "outputId": "7dae43f3-872a-403d-900a-5f65e8fe8379"
      },
      "source": [
        "confusion_matrix(y_test,y_pred_3)"
      ],
      "execution_count": 25,
      "outputs": [
        {
          "output_type": "execute_result",
          "data": {
            "text/plain": [
              "array([[832,   0,   1,   2,   0,   2,   1,   0,   0,   2],\n",
              "       [  0, 921,   3,   0,   2,   0,   0,   1,   3,   1],\n",
              "       [  3,   1, 818,   4,   4,   0,   1,   1,   2,   1],\n",
              "       [  1,   3,   6, 853,   1,  12,   1,   6,   4,   4],\n",
              "       [  1,   0,   2,   0, 769,   1,   3,   0,   0,  17],\n",
              "       [  2,   1,   1,  11,   1, 726,   6,   0,   3,   1],\n",
              "       [  3,   1,   2,   0,   2,   4, 844,   0,   1,   0],\n",
              "       [  0,   3,   5,   0,   4,   0,   0, 845,   0,   6],\n",
              "       [  3,   0,   4,   5,   2,   7,   1,   2, 779,   5],\n",
              "       [  1,   2,   0,   7,  14,   3,   1,   8,   3, 791]])"
            ]
          },
          "metadata": {
            "tags": []
          },
          "execution_count": 25
        }
      ]
    },
    {
      "cell_type": "markdown",
      "metadata": {
        "id": "jwR4YExnFCBE"
      },
      "source": [
        "###Thus by observing the above results we can say that the clf produces good results. So we will use the clf classifier for predicting further results.\n",
        "\n",
        "Further we can reduce the dimensionality using Principal Component Analysis(PCA)."
      ]
    },
    {
      "cell_type": "code",
      "metadata": {
        "colab": {
          "base_uri": "https://localhost:8080/"
        },
        "id": "cRinf989MS7R",
        "outputId": "9d57dfd5-96e4-43ec-a3af-9afb33650929"
      },
      "source": [
        "from sklearn.decomposition import PCA\n",
        "\n",
        "pca = PCA(n_components=0.90)\n",
        "pca_X_train = pca.fit_transform(normalized_x_train)\n",
        "pca_X_test = pca.transform(normalized_x_test)\n",
        "\n",
        "print(f'{pca.explained_variance_} \\n Number of PCA Vectors = {len(pca.explained_variance_)}' )"
      ],
      "execution_count": 26,
      "outputs": [
        {
          "output_type": "stream",
          "text": [
            "[20.55772093 15.15507884 12.98781642 11.31262242 10.34748883  9.0881205\n",
            "  6.90209136  6.12772176  5.87923554  4.96404233  4.43404477  4.35315465\n",
            "  3.6201981   3.56467427  3.36666337  3.13708356  2.7716044   2.70429438\n",
            "  2.51190766  2.436562    2.26945571  2.11725946  2.03452496  1.92084696\n",
            "  1.8681936   1.78434046  1.71945259  1.64237423  1.57035346  1.45985302\n",
            "  1.39287142  1.35496421  1.27100758  1.24378125  1.1872732   1.13975383\n",
            "  1.08289516  1.02639392  1.0054748   0.98531592  0.95322594  0.93722261\n",
            "  0.88015934  0.84078398  0.81349484  0.79310976  0.76379686  0.73973725\n",
            "  0.70747333  0.67566534  0.66661104  0.6531163   0.62194144  0.61021602\n",
            "  0.59039852  0.57271469  0.56125442  0.53899072  0.53548533  0.52084533\n",
            "  0.50714123  0.50531476  0.47955702  0.46641313  0.45564032  0.43193197\n",
            "  0.42685353  0.41532475  0.40861191  0.39936582  0.39480045  0.38607473\n",
            "  0.37102791  0.36254964  0.3516081   0.34593012  0.33680486  0.32451502\n",
            "  0.31087542  0.30167136  0.2977455   0.29721378  0.2930722   0.28689355\n",
            "  0.27781467  0.27625839  0.2738919 ] \n",
            " Number of PCA Vectors = 87\n"
          ],
          "name": "stdout"
        }
      ]
    },
    {
      "cell_type": "code",
      "metadata": {
        "colab": {
          "base_uri": "https://localhost:8080/"
        },
        "id": "zB9tKdOgMyKD",
        "outputId": "45a85bc7-99e5-41d0-cb7a-1777dda08b1e"
      },
      "source": [
        "#applying classifier's to pca_X_train\n",
        "\n",
        "clf.fit(pca_X_train,y_train)\n",
        "clf_2.fit(pca_X_train,y_train)\n",
        "clf_3.fit(pca_X_train,y_train)\n",
        "print(f\"Training Score with Principal Component Analysis using RBF kernel : {clf.score(pca_X_train,y_train)}\")\n",
        "print(f\"Training Score with Principal Component Analysis using sigmoid kernel : {clf_2.score(pca_X_train,y_train)}\")\n",
        "print(f\"Training Score without Principal Component Analysis using polynomial kernel : {clf_3.score(pca_X_train,y_train)}\")"
      ],
      "execution_count": 28,
      "outputs": [
        {
          "output_type": "stream",
          "text": [
            "Training Score with Principal Component Analysis using RBF kernel : 0.9922321428571429\n",
            "Training Score with Principal Component Analysis using sigmoid kernel : 0.8362797619047619\n",
            "Training Score without Principal Component Analysis using polynomial kernel : 0.9952083333333334\n"
          ],
          "name": "stdout"
        }
      ]
    },
    {
      "cell_type": "code",
      "metadata": {
        "colab": {
          "base_uri": "https://localhost:8080/"
        },
        "id": "zo5AhLf3M7z-",
        "outputId": "153069bd-4d70-4c3d-ed12-d4efff3cfd5f"
      },
      "source": [
        "pca_y_pred = clf.predict(pca_X_test)\n",
        "print(\"Test Accuracy and Confusion Matrix Using Classifier with RBF kernel\")\n",
        "print(accuracy_score(y_test,pca_y_pred))\n",
        "print(confusion_matrix(y_test,pca_y_pred))\n",
        "\n",
        "pca_y_pred_2 = clf_2.predict(pca_X_test)\n",
        "print(\"Test Accuracy and Confusion Matrix Using Classifier with Sigmoid kernel\")\n",
        "print(accuracy_score(y_test,pca_y_pred_2))\n",
        "print(confusion_matrix(y_test,pca_y_pred_2))\n",
        "\n",
        "pca_y_pred_3 = clf_3.predict(pca_X_test)\n",
        "print(\"Test Accuracy and Confusion Matrix Using Classifier with Polynmial kernel\")\n",
        "print(accuracy_score(y_test,pca_y_pred_3))\n",
        "print(confusion_matrix(y_test,pca_y_pred_3))"
      ],
      "execution_count": 30,
      "outputs": [
        {
          "output_type": "stream",
          "text": [
            "Test Accuracy and Confusion Matrix Using Classifier with RBF kernel\n",
            "0.9786904761904762\n",
            "[[831   0   1   0   1   3   2   0   1   1]\n",
            " [  0 921   2   1   3   0   0   2   2   0]\n",
            " [  2   0 818   3   5   0   1   3   2   1]\n",
            " [  0   1   5 863   1   8   1   5   7   0]\n",
            " [  0   0   1   0 779   1   2   0   0  10]\n",
            " [  2   0   0   8   1 733   5   0   3   0]\n",
            " [  2   0   2   0   1   2 849   0   1   0]\n",
            " [  0   3   4   0   5   0   0 844   1   6]\n",
            " [  0   2   5   2   2   5   0   1 786   5]\n",
            " [  2   2   0   9  11   1   0   6   2 797]]\n",
            "Test Accuracy and Confusion Matrix Using Classifier with Sigmoid kernel\n",
            "0.8339285714285715\n",
            "[[760   0  10   5   3  39  14   1   5   3]\n",
            " [  0 894  13   4   1   2   3   1  13   0]\n",
            " [ 27  16 660  26  29  10  27  13  23   4]\n",
            " [ 14  20  31 694   1  82   6  12  24   7]\n",
            " [  5   1   8   0 697   2   9   7   1  63]\n",
            " [ 45  24   7  73  10 547  16   1  24   5]\n",
            " [ 29   4  32   2  11  16 760   0   3   0]\n",
            " [  5   7  16   3  17   0   0 746   4  65]\n",
            " [ 23  47  19  32   5  49   6   4 608  15]\n",
            " [  6   5   5  20  68  12   1  69   5 639]]\n",
            "Test Accuracy and Confusion Matrix Using Classifier with Polynmial kernel\n",
            "0.9783333333333334\n",
            "[[826   0   3   0   0   3   3   0   3   2]\n",
            " [  0 918   3   2   3   0   0   2   2   1]\n",
            " [  1   0 817   1   4   2   1   3   5   1]\n",
            " [  0   0   4 866   1   6   1   4   8   1]\n",
            " [  0   0   1   0 778   0   4   0   0  10]\n",
            " [  1   0   0   7   1 733   5   0   3   2]\n",
            " [  1   0   1   0   1   3 848   0   3   0]\n",
            " [  0   4   4   0   4   0   0 843   1   7]\n",
            " [  0   1   3   4   2   6   0   0 788   4]\n",
            " [  1   1   1   7   8   2   1   3   5 801]]\n"
          ],
          "name": "stdout"
        }
      ]
    },
    {
      "cell_type": "markdown",
      "metadata": {
        "id": "dp2meaAvhB-y"
      },
      "source": [
        "###Coclusion\n",
        "\n",
        "There's not much effect on the accuracy of using PCA. But it sure reduces the training time of the algorithm by a significant amount.So it's a good practice to use this feature.\n",
        "\n",
        "Also the accuracy of clf classifier(which is classifier with RBF kernel) and the clf_3 classifier(classifier with polynomial kernel) are aprroximately same so we can choose either of those to make predictions further."
      ]
    },
    {
      "cell_type": "code",
      "metadata": {
        "id": "zK8atr6ATr2-"
      },
      "source": [
        ""
      ],
      "execution_count": null,
      "outputs": []
    }
  ]
}